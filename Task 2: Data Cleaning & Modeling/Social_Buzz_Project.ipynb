{
  "nbformat": 4,
  "nbformat_minor": 0,
  "metadata": {
    "colab": {
      "provenance": []
    },
    "kernelspec": {
      "name": "python3",
      "display_name": "Python 3"
    },
    "language_info": {
      "name": "python"
    }
  },
  "cells": [
    {
      "cell_type": "markdown",
      "source": [
        "# **Data cleaning**"
      ],
      "metadata": {
        "id": "XyqVsjjl1Ahu"
      }
    },
    {
      "cell_type": "code",
      "source": [
        "# Import necessary libraries\n",
        "import pandas as pd\n",
        "\n",
        "# Load the datasets\n",
        "reaction = pd.read_csv(\"/content/Reactions.csv\")\n",
        "reaction_types = pd.read_csv(\"/content/ReactionTypes.csv\")\n",
        "content = pd.read_csv(\"/content/Content.csv\")"
      ],
      "metadata": {
        "id": "L6R3Z5y31FZ1"
      },
      "execution_count": null,
      "outputs": []
    },
    {
      "cell_type": "code",
      "source": [
        "# Drop unnecessary columns from 'content' dataframe\n",
        "content.drop(['Unnamed: 0', 'User ID', 'URL'], axis=1, inplace=True)\n",
        "\n",
        "# Drop unnecessary columns from 'reaction_types' dataframe\n",
        "reaction_types.drop('Unnamed: 0',axis=1,inplace=True)\n",
        "\n",
        "# Drop unnecessary columns from 'reaction' dataframe\n",
        "reaction.drop(['Unnamed: 0','User ID'],axis=1,inplace=True)"
      ],
      "metadata": {
        "id": "1AzE5nucg6Cb"
      },
      "execution_count": null,
      "outputs": []
    },
    {
      "cell_type": "code",
      "source": [
        "# Merge 'reaction' and 'content' using a left join on 'Content ID' column.\n",
        "df = reaction.merge(content, how='left', on='Content ID')\n",
        "\n",
        "# Rename the columns in the df, changing 'Type_x' to 'Type' and 'Type_y' to 'Reaction Type'.\n",
        "df = df.rename(columns={'Type_x':'Type', 'Type_y':'Reaction Type'})\n",
        "\n",
        "# Merge the existing data frame with 'reaction_types' using a left join on the 'Type' column.\n",
        "df = df.merge(reaction_types, how='left', on='Type')\n",
        "\n",
        "# Rename the 'Type' column to 'Content Type'\n",
        "df = df.rename(columns={'Type':'Content Type'})\n",
        "\n",
        "df"
      ],
      "metadata": {
        "colab": {
          "base_uri": "https://localhost:8080/",
          "height": 981
        },
        "id": "MwzL3q3Wk0UT",
        "outputId": "3c21549b-5dea-442e-99fb-484ba088df3f"
      },
      "execution_count": null,
      "outputs": [
        {
          "output_type": "execute_result",
          "data": {
            "text/plain": [
              "                                 Content ID Content Type             Datetime  \\\n",
              "0      97522e57-d9ab-4bd6-97bf-c24d952602d2          NaN  2021-04-22 15:17:15   \n",
              "1      97522e57-d9ab-4bd6-97bf-c24d952602d2      disgust  2020-11-07 09:43:50   \n",
              "2      97522e57-d9ab-4bd6-97bf-c24d952602d2      dislike  2021-06-17 12:22:51   \n",
              "3      97522e57-d9ab-4bd6-97bf-c24d952602d2       scared  2021-04-18 05:13:58   \n",
              "4      97522e57-d9ab-4bd6-97bf-c24d952602d2      disgust  2021-01-06 19:13:01   \n",
              "...                                     ...          ...                  ...   \n",
              "25548  75d6b589-7fae-4a6d-b0d0-752845150e56      dislike  2020-06-27 09:46:48   \n",
              "25549  75d6b589-7fae-4a6d-b0d0-752845150e56    intrigued  2021-02-16 17:17:02   \n",
              "25550  75d6b589-7fae-4a6d-b0d0-752845150e56   interested  2020-09-12 03:54:58   \n",
              "25551  75d6b589-7fae-4a6d-b0d0-752845150e56      worried  2020-11-04 20:08:31   \n",
              "25552  75d6b589-7fae-4a6d-b0d0-752845150e56      cherish  2021-01-04 04:55:11   \n",
              "\n",
              "      Reaction Type    Category Sentiment  Score  \n",
              "0             photo    Studying       NaN    NaN  \n",
              "1             photo    Studying  negative    0.0  \n",
              "2             photo    Studying  negative   10.0  \n",
              "3             photo    Studying  negative   15.0  \n",
              "4             photo    Studying  negative    0.0  \n",
              "...             ...         ...       ...    ...  \n",
              "25548         audio  technology  negative   10.0  \n",
              "25549         audio  technology  positive   45.0  \n",
              "25550         audio  technology  positive   30.0  \n",
              "25551         audio  technology  negative   12.0  \n",
              "25552         audio  technology  positive   70.0  \n",
              "\n",
              "[25553 rows x 7 columns]"
            ],
            "text/html": [
              "\n",
              "  <div id=\"df-bc5cf9d8-3ed0-401b-9383-beba9a661704\" class=\"colab-df-container\">\n",
              "    <div>\n",
              "<style scoped>\n",
              "    .dataframe tbody tr th:only-of-type {\n",
              "        vertical-align: middle;\n",
              "    }\n",
              "\n",
              "    .dataframe tbody tr th {\n",
              "        vertical-align: top;\n",
              "    }\n",
              "\n",
              "    .dataframe thead th {\n",
              "        text-align: right;\n",
              "    }\n",
              "</style>\n",
              "<table border=\"1\" class=\"dataframe\">\n",
              "  <thead>\n",
              "    <tr style=\"text-align: right;\">\n",
              "      <th></th>\n",
              "      <th>Content ID</th>\n",
              "      <th>Content Type</th>\n",
              "      <th>Datetime</th>\n",
              "      <th>Reaction Type</th>\n",
              "      <th>Category</th>\n",
              "      <th>Sentiment</th>\n",
              "      <th>Score</th>\n",
              "    </tr>\n",
              "  </thead>\n",
              "  <tbody>\n",
              "    <tr>\n",
              "      <th>0</th>\n",
              "      <td>97522e57-d9ab-4bd6-97bf-c24d952602d2</td>\n",
              "      <td>NaN</td>\n",
              "      <td>2021-04-22 15:17:15</td>\n",
              "      <td>photo</td>\n",
              "      <td>Studying</td>\n",
              "      <td>NaN</td>\n",
              "      <td>NaN</td>\n",
              "    </tr>\n",
              "    <tr>\n",
              "      <th>1</th>\n",
              "      <td>97522e57-d9ab-4bd6-97bf-c24d952602d2</td>\n",
              "      <td>disgust</td>\n",
              "      <td>2020-11-07 09:43:50</td>\n",
              "      <td>photo</td>\n",
              "      <td>Studying</td>\n",
              "      <td>negative</td>\n",
              "      <td>0.0</td>\n",
              "    </tr>\n",
              "    <tr>\n",
              "      <th>2</th>\n",
              "      <td>97522e57-d9ab-4bd6-97bf-c24d952602d2</td>\n",
              "      <td>dislike</td>\n",
              "      <td>2021-06-17 12:22:51</td>\n",
              "      <td>photo</td>\n",
              "      <td>Studying</td>\n",
              "      <td>negative</td>\n",
              "      <td>10.0</td>\n",
              "    </tr>\n",
              "    <tr>\n",
              "      <th>3</th>\n",
              "      <td>97522e57-d9ab-4bd6-97bf-c24d952602d2</td>\n",
              "      <td>scared</td>\n",
              "      <td>2021-04-18 05:13:58</td>\n",
              "      <td>photo</td>\n",
              "      <td>Studying</td>\n",
              "      <td>negative</td>\n",
              "      <td>15.0</td>\n",
              "    </tr>\n",
              "    <tr>\n",
              "      <th>4</th>\n",
              "      <td>97522e57-d9ab-4bd6-97bf-c24d952602d2</td>\n",
              "      <td>disgust</td>\n",
              "      <td>2021-01-06 19:13:01</td>\n",
              "      <td>photo</td>\n",
              "      <td>Studying</td>\n",
              "      <td>negative</td>\n",
              "      <td>0.0</td>\n",
              "    </tr>\n",
              "    <tr>\n",
              "      <th>...</th>\n",
              "      <td>...</td>\n",
              "      <td>...</td>\n",
              "      <td>...</td>\n",
              "      <td>...</td>\n",
              "      <td>...</td>\n",
              "      <td>...</td>\n",
              "      <td>...</td>\n",
              "    </tr>\n",
              "    <tr>\n",
              "      <th>25548</th>\n",
              "      <td>75d6b589-7fae-4a6d-b0d0-752845150e56</td>\n",
              "      <td>dislike</td>\n",
              "      <td>2020-06-27 09:46:48</td>\n",
              "      <td>audio</td>\n",
              "      <td>technology</td>\n",
              "      <td>negative</td>\n",
              "      <td>10.0</td>\n",
              "    </tr>\n",
              "    <tr>\n",
              "      <th>25549</th>\n",
              "      <td>75d6b589-7fae-4a6d-b0d0-752845150e56</td>\n",
              "      <td>intrigued</td>\n",
              "      <td>2021-02-16 17:17:02</td>\n",
              "      <td>audio</td>\n",
              "      <td>technology</td>\n",
              "      <td>positive</td>\n",
              "      <td>45.0</td>\n",
              "    </tr>\n",
              "    <tr>\n",
              "      <th>25550</th>\n",
              "      <td>75d6b589-7fae-4a6d-b0d0-752845150e56</td>\n",
              "      <td>interested</td>\n",
              "      <td>2020-09-12 03:54:58</td>\n",
              "      <td>audio</td>\n",
              "      <td>technology</td>\n",
              "      <td>positive</td>\n",
              "      <td>30.0</td>\n",
              "    </tr>\n",
              "    <tr>\n",
              "      <th>25551</th>\n",
              "      <td>75d6b589-7fae-4a6d-b0d0-752845150e56</td>\n",
              "      <td>worried</td>\n",
              "      <td>2020-11-04 20:08:31</td>\n",
              "      <td>audio</td>\n",
              "      <td>technology</td>\n",
              "      <td>negative</td>\n",
              "      <td>12.0</td>\n",
              "    </tr>\n",
              "    <tr>\n",
              "      <th>25552</th>\n",
              "      <td>75d6b589-7fae-4a6d-b0d0-752845150e56</td>\n",
              "      <td>cherish</td>\n",
              "      <td>2021-01-04 04:55:11</td>\n",
              "      <td>audio</td>\n",
              "      <td>technology</td>\n",
              "      <td>positive</td>\n",
              "      <td>70.0</td>\n",
              "    </tr>\n",
              "  </tbody>\n",
              "</table>\n",
              "<p>25553 rows × 7 columns</p>\n",
              "</div>\n",
              "    <div class=\"colab-df-buttons\">\n",
              "\n",
              "  <div class=\"colab-df-container\">\n",
              "    <button class=\"colab-df-convert\" onclick=\"convertToInteractive('df-bc5cf9d8-3ed0-401b-9383-beba9a661704')\"\n",
              "            title=\"Convert this dataframe to an interactive table.\"\n",
              "            style=\"display:none;\">\n",
              "\n",
              "  <svg xmlns=\"http://www.w3.org/2000/svg\" height=\"24px\" viewBox=\"0 -960 960 960\">\n",
              "    <path d=\"M120-120v-720h720v720H120Zm60-500h600v-160H180v160Zm220 220h160v-160H400v160Zm0 220h160v-160H400v160ZM180-400h160v-160H180v160Zm440 0h160v-160H620v160ZM180-180h160v-160H180v160Zm440 0h160v-160H620v160Z\"/>\n",
              "  </svg>\n",
              "    </button>\n",
              "\n",
              "  <style>\n",
              "    .colab-df-container {\n",
              "      display:flex;\n",
              "      gap: 12px;\n",
              "    }\n",
              "\n",
              "    .colab-df-convert {\n",
              "      background-color: #E8F0FE;\n",
              "      border: none;\n",
              "      border-radius: 50%;\n",
              "      cursor: pointer;\n",
              "      display: none;\n",
              "      fill: #1967D2;\n",
              "      height: 32px;\n",
              "      padding: 0 0 0 0;\n",
              "      width: 32px;\n",
              "    }\n",
              "\n",
              "    .colab-df-convert:hover {\n",
              "      background-color: #E2EBFA;\n",
              "      box-shadow: 0px 1px 2px rgba(60, 64, 67, 0.3), 0px 1px 3px 1px rgba(60, 64, 67, 0.15);\n",
              "      fill: #174EA6;\n",
              "    }\n",
              "\n",
              "    .colab-df-buttons div {\n",
              "      margin-bottom: 4px;\n",
              "    }\n",
              "\n",
              "    [theme=dark] .colab-df-convert {\n",
              "      background-color: #3B4455;\n",
              "      fill: #D2E3FC;\n",
              "    }\n",
              "\n",
              "    [theme=dark] .colab-df-convert:hover {\n",
              "      background-color: #434B5C;\n",
              "      box-shadow: 0px 1px 3px 1px rgba(0, 0, 0, 0.15);\n",
              "      filter: drop-shadow(0px 1px 2px rgba(0, 0, 0, 0.3));\n",
              "      fill: #FFFFFF;\n",
              "    }\n",
              "  </style>\n",
              "\n",
              "    <script>\n",
              "      const buttonEl =\n",
              "        document.querySelector('#df-bc5cf9d8-3ed0-401b-9383-beba9a661704 button.colab-df-convert');\n",
              "      buttonEl.style.display =\n",
              "        google.colab.kernel.accessAllowed ? 'block' : 'none';\n",
              "\n",
              "      async function convertToInteractive(key) {\n",
              "        const element = document.querySelector('#df-bc5cf9d8-3ed0-401b-9383-beba9a661704');\n",
              "        const dataTable =\n",
              "          await google.colab.kernel.invokeFunction('convertToInteractive',\n",
              "                                                    [key], {});\n",
              "        if (!dataTable) return;\n",
              "\n",
              "        const docLinkHtml = 'Like what you see? Visit the ' +\n",
              "          '<a target=\"_blank\" href=https://colab.research.google.com/notebooks/data_table.ipynb>data table notebook</a>'\n",
              "          + ' to learn more about interactive tables.';\n",
              "        element.innerHTML = '';\n",
              "        dataTable['output_type'] = 'display_data';\n",
              "        await google.colab.output.renderOutput(dataTable, element);\n",
              "        const docLink = document.createElement('div');\n",
              "        docLink.innerHTML = docLinkHtml;\n",
              "        element.appendChild(docLink);\n",
              "      }\n",
              "    </script>\n",
              "  </div>\n",
              "\n",
              "\n",
              "<div id=\"df-11288daf-bcbe-4a28-9290-ed5cc249c442\">\n",
              "  <button class=\"colab-df-quickchart\" onclick=\"quickchart('df-11288daf-bcbe-4a28-9290-ed5cc249c442')\"\n",
              "            title=\"Suggest charts\"\n",
              "            style=\"display:none;\">\n",
              "\n",
              "<svg xmlns=\"http://www.w3.org/2000/svg\" height=\"24px\"viewBox=\"0 0 24 24\"\n",
              "     width=\"24px\">\n",
              "    <g>\n",
              "        <path d=\"M19 3H5c-1.1 0-2 .9-2 2v14c0 1.1.9 2 2 2h14c1.1 0 2-.9 2-2V5c0-1.1-.9-2-2-2zM9 17H7v-7h2v7zm4 0h-2V7h2v10zm4 0h-2v-4h2v4z\"/>\n",
              "    </g>\n",
              "</svg>\n",
              "  </button>\n",
              "\n",
              "<style>\n",
              "  .colab-df-quickchart {\n",
              "      --bg-color: #E8F0FE;\n",
              "      --fill-color: #1967D2;\n",
              "      --hover-bg-color: #E2EBFA;\n",
              "      --hover-fill-color: #174EA6;\n",
              "      --disabled-fill-color: #AAA;\n",
              "      --disabled-bg-color: #DDD;\n",
              "  }\n",
              "\n",
              "  [theme=dark] .colab-df-quickchart {\n",
              "      --bg-color: #3B4455;\n",
              "      --fill-color: #D2E3FC;\n",
              "      --hover-bg-color: #434B5C;\n",
              "      --hover-fill-color: #FFFFFF;\n",
              "      --disabled-bg-color: #3B4455;\n",
              "      --disabled-fill-color: #666;\n",
              "  }\n",
              "\n",
              "  .colab-df-quickchart {\n",
              "    background-color: var(--bg-color);\n",
              "    border: none;\n",
              "    border-radius: 50%;\n",
              "    cursor: pointer;\n",
              "    display: none;\n",
              "    fill: var(--fill-color);\n",
              "    height: 32px;\n",
              "    padding: 0;\n",
              "    width: 32px;\n",
              "  }\n",
              "\n",
              "  .colab-df-quickchart:hover {\n",
              "    background-color: var(--hover-bg-color);\n",
              "    box-shadow: 0 1px 2px rgba(60, 64, 67, 0.3), 0 1px 3px 1px rgba(60, 64, 67, 0.15);\n",
              "    fill: var(--button-hover-fill-color);\n",
              "  }\n",
              "\n",
              "  .colab-df-quickchart-complete:disabled,\n",
              "  .colab-df-quickchart-complete:disabled:hover {\n",
              "    background-color: var(--disabled-bg-color);\n",
              "    fill: var(--disabled-fill-color);\n",
              "    box-shadow: none;\n",
              "  }\n",
              "\n",
              "  .colab-df-spinner {\n",
              "    border: 2px solid var(--fill-color);\n",
              "    border-color: transparent;\n",
              "    border-bottom-color: var(--fill-color);\n",
              "    animation:\n",
              "      spin 1s steps(1) infinite;\n",
              "  }\n",
              "\n",
              "  @keyframes spin {\n",
              "    0% {\n",
              "      border-color: transparent;\n",
              "      border-bottom-color: var(--fill-color);\n",
              "      border-left-color: var(--fill-color);\n",
              "    }\n",
              "    20% {\n",
              "      border-color: transparent;\n",
              "      border-left-color: var(--fill-color);\n",
              "      border-top-color: var(--fill-color);\n",
              "    }\n",
              "    30% {\n",
              "      border-color: transparent;\n",
              "      border-left-color: var(--fill-color);\n",
              "      border-top-color: var(--fill-color);\n",
              "      border-right-color: var(--fill-color);\n",
              "    }\n",
              "    40% {\n",
              "      border-color: transparent;\n",
              "      border-right-color: var(--fill-color);\n",
              "      border-top-color: var(--fill-color);\n",
              "    }\n",
              "    60% {\n",
              "      border-color: transparent;\n",
              "      border-right-color: var(--fill-color);\n",
              "    }\n",
              "    80% {\n",
              "      border-color: transparent;\n",
              "      border-right-color: var(--fill-color);\n",
              "      border-bottom-color: var(--fill-color);\n",
              "    }\n",
              "    90% {\n",
              "      border-color: transparent;\n",
              "      border-bottom-color: var(--fill-color);\n",
              "    }\n",
              "  }\n",
              "</style>\n",
              "\n",
              "  <script>\n",
              "    async function quickchart(key) {\n",
              "      const quickchartButtonEl =\n",
              "        document.querySelector('#' + key + ' button');\n",
              "      quickchartButtonEl.disabled = true;  // To prevent multiple clicks.\n",
              "      quickchartButtonEl.classList.add('colab-df-spinner');\n",
              "      try {\n",
              "        const charts = await google.colab.kernel.invokeFunction(\n",
              "            'suggestCharts', [key], {});\n",
              "      } catch (error) {\n",
              "        console.error('Error during call to suggestCharts:', error);\n",
              "      }\n",
              "      quickchartButtonEl.classList.remove('colab-df-spinner');\n",
              "      quickchartButtonEl.classList.add('colab-df-quickchart-complete');\n",
              "    }\n",
              "    (() => {\n",
              "      let quickchartButtonEl =\n",
              "        document.querySelector('#df-11288daf-bcbe-4a28-9290-ed5cc249c442 button');\n",
              "      quickchartButtonEl.style.display =\n",
              "        google.colab.kernel.accessAllowed ? 'block' : 'none';\n",
              "    })();\n",
              "  </script>\n",
              "</div>\n",
              "    </div>\n",
              "  </div>\n"
            ],
            "application/vnd.google.colaboratory.intrinsic+json": {
              "type": "dataframe",
              "variable_name": "df",
              "repr_error": "'str' object has no attribute 'empty'"
            }
          },
          "metadata": {},
          "execution_count": 123
        }
      ]
    },
    {
      "cell_type": "code",
      "source": [
        "# Check for missing values in the dataframe\n",
        "df.isnull().sum()"
      ],
      "metadata": {
        "id": "3FzrR4yN53lC",
        "colab": {
          "base_uri": "https://localhost:8080/"
        },
        "outputId": "95317b89-1295-4caf-8843-8da078b4d2e9"
      },
      "execution_count": null,
      "outputs": [
        {
          "output_type": "execute_result",
          "data": {
            "text/plain": [
              "Content ID         0\n",
              "Content Type     980\n",
              "Datetime           0\n",
              "Reaction Type      0\n",
              "Category           0\n",
              "Sentiment        980\n",
              "Score            980\n",
              "dtype: int64"
            ]
          },
          "metadata": {},
          "execution_count": 124
        }
      ]
    },
    {
      "cell_type": "code",
      "source": [
        "# Create a new dataframe with missing values dropped\n",
        "df_cleaned = df.dropna()\n",
        "\n",
        "# Check for missing values in the cleaned dataframe\n",
        "df_cleaned.isnull().sum()"
      ],
      "metadata": {
        "colab": {
          "base_uri": "https://localhost:8080/"
        },
        "id": "YEYLvBuwqv0o",
        "outputId": "ae4cf10a-cfd7-442d-bbbf-2449a16b1d1e"
      },
      "execution_count": null,
      "outputs": [
        {
          "output_type": "execute_result",
          "data": {
            "text/plain": [
              "Content ID       0\n",
              "Content Type     0\n",
              "Datetime         0\n",
              "Reaction Type    0\n",
              "Category         0\n",
              "Sentiment        0\n",
              "Score            0\n",
              "dtype: int64"
            ]
          },
          "metadata": {},
          "execution_count": 125
        }
      ]
    },
    {
      "cell_type": "code",
      "source": [
        "# Check 'Category' column\n",
        "df_cleaned['Category'].unique()"
      ],
      "metadata": {
        "colab": {
          "base_uri": "https://localhost:8080/"
        },
        "id": "d-BxyQlurCJG",
        "outputId": "aa942895-ce67-4d92-9102-01a9b417915a"
      },
      "execution_count": null,
      "outputs": [
        {
          "output_type": "execute_result",
          "data": {
            "text/plain": [
              "array(['Studying', 'healthy eating', 'technology', 'food', 'cooking',\n",
              "       'dogs', 'soccer', 'public speaking', 'science', 'tennis', 'travel',\n",
              "       'fitness', 'education', 'studying', 'veganism', 'Animals',\n",
              "       'animals', 'culture', '\"culture\"', 'Fitness', '\"studying\"',\n",
              "       'Veganism', '\"animals\"', 'Travel', '\"soccer\"', 'Education',\n",
              "       '\"dogs\"', 'Technology', 'Soccer', 'Culture', '\"food\"', 'Food',\n",
              "       '\"technology\"', 'Healthy Eating', '\"cooking\"', 'Science',\n",
              "       '\"public speaking\"', '\"veganism\"', 'Public Speaking', '\"science\"'],\n",
              "      dtype=object)"
            ]
          },
          "metadata": {},
          "execution_count": 126
        }
      ]
    },
    {
      "cell_type": "code",
      "source": [
        "# Clean the 'Category' column by removing double quotes and converting to lowercase\n",
        "df_cleaned['Category'] = df_cleaned['Category'].replace('\"', '', regex = True)\n",
        "df_cleaned['Category']= df_cleaned['Category'].str.lower()"
      ],
      "metadata": {
        "colab": {
          "base_uri": "https://localhost:8080/"
        },
        "id": "QIuPRpQbrWUq",
        "outputId": "6279f087-5267-4954-f42a-080e8efcd168"
      },
      "execution_count": null,
      "outputs": [
        {
          "output_type": "stream",
          "name": "stderr",
          "text": [
            "<ipython-input-127-3d46bf409282>:2: SettingWithCopyWarning: \n",
            "A value is trying to be set on a copy of a slice from a DataFrame.\n",
            "Try using .loc[row_indexer,col_indexer] = value instead\n",
            "\n",
            "See the caveats in the documentation: https://pandas.pydata.org/pandas-docs/stable/user_guide/indexing.html#returning-a-view-versus-a-copy\n",
            "  df_cleaned['Category'] = df_cleaned['Category'].replace('\"', '', regex = True)\n",
            "<ipython-input-127-3d46bf409282>:3: SettingWithCopyWarning: \n",
            "A value is trying to be set on a copy of a slice from a DataFrame.\n",
            "Try using .loc[row_indexer,col_indexer] = value instead\n",
            "\n",
            "See the caveats in the documentation: https://pandas.pydata.org/pandas-docs/stable/user_guide/indexing.html#returning-a-view-versus-a-copy\n",
            "  df_cleaned['Category']= df_cleaned['Category'].str.lower()\n"
          ]
        }
      ]
    },
    {
      "cell_type": "code",
      "source": [
        "# Display unique values in the 'Category' column\n",
        "df_cleaned['Category'].unique()"
      ],
      "metadata": {
        "colab": {
          "base_uri": "https://localhost:8080/"
        },
        "id": "IPRc38BwrsKZ",
        "outputId": "ed4167d0-4f4a-49b9-cb56-2c6b1013a79e"
      },
      "execution_count": null,
      "outputs": [
        {
          "output_type": "execute_result",
          "data": {
            "text/plain": [
              "array(['studying', 'healthy eating', 'technology', 'food', 'cooking',\n",
              "       'dogs', 'soccer', 'public speaking', 'science', 'tennis', 'travel',\n",
              "       'fitness', 'education', 'veganism', 'animals', 'culture'],\n",
              "      dtype=object)"
            ]
          },
          "metadata": {},
          "execution_count": 128
        }
      ]
    },
    {
      "cell_type": "code",
      "source": [
        "# Save the cleaned dataframe to a CSV file\n",
        "df_cleaned.to_csv('Final data.csv', index = False)"
      ],
      "metadata": {
        "id": "qrsoWriyrwWh"
      },
      "execution_count": null,
      "outputs": []
    },
    {
      "cell_type": "markdown",
      "source": [
        "# **Data Modeling**"
      ],
      "metadata": {
        "id": "ZffEq9zUv3G7"
      }
    },
    {
      "cell_type": "code",
      "source": [
        "# Group by 'Category' and count the occurrences of each 'Reaction Type'\n",
        "category_reaction_counts = df_cleaned.groupby('Category').agg({\"Reaction Type\": \"count\"}).reset_index().sort_values(by='Reaction Type', ascending=False).reset_index(drop=True).head()\n",
        "\n",
        "# Group by 'Category' and calculate the sum of 'Score' for each category\n",
        "category_score_sum = df_cleaned.groupby('Category').agg({'Score': 'sum'}).reset_index().sort_values(by=\"Score\", ascending=False).reset_index(drop=True).head()\n",
        "\n",
        "# Display the results\n",
        "print(\"Top Categories by Reaction Type Counts:\")\n",
        "print(category_reaction_counts)\n",
        "\n",
        "print(\"\\nTop Categories by Score Sum:\")\n",
        "print(category_score_sum)"
      ],
      "metadata": {
        "colab": {
          "base_uri": "https://localhost:8080/"
        },
        "id": "plMwHxB5tvdl",
        "outputId": "88a43e8b-8d13-44c6-e828-950266a63400"
      },
      "execution_count": null,
      "outputs": [
        {
          "output_type": "stream",
          "name": "stdout",
          "text": [
            "Top Categories by Reaction Type Counts:\n",
            "         Category  Reaction Type\n",
            "0         animals           1897\n",
            "1         science           1796\n",
            "2  healthy eating           1717\n",
            "3            food           1699\n",
            "4      technology           1698\n",
            "\n",
            "Top Categories by Score Sum:\n",
            "         Category    Score\n",
            "0         animals  74965.0\n",
            "1         science  71168.0\n",
            "2  healthy eating  69339.0\n",
            "3      technology  68738.0\n",
            "4            food  66676.0\n"
          ]
        }
      ]
    }
  ]
}